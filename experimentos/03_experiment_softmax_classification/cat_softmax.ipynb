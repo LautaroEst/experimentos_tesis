{
    "cells": [
        {
            "cell_type": "code",
            "execution_count": 1,
            "source": [
                "import numpy as np\n",
                "\n",
                "%matplotlib inline\n",
                "import matplotlib.pyplot as plt\n",
                "\n",
                "import sys\n",
                "sys.path.append('..')\n",
                "import utils as ut\n",
                "\n",
                "DATA_PATH = '../../datav2/esp/'\n",
                "\n",
                "%load_ext autoreload\n",
                "%autoreload 2"
            ],
            "outputs": [],
            "metadata": {}
        },
        {
            "cell_type": "code",
            "execution_count": 2,
            "source": [
                "df = ut.load_data(DATA_PATH,'train',nclasses=5).loc[:,['review_content','review_rate']]\n",
                "df.head(5)"
            ],
            "outputs": [
                {
                    "output_type": "stream",
                    "name": "stdout",
                    "text": [
                        "Dataset cargado para 5 clases (muy malo=1, malo=2, medio=3, bueno=4 muy bueno=5)\n",
                        "Num samples per category:\n",
                        "1    92477\n",
                        "2    92449\n",
                        "3    92487\n",
                        "4    92501\n",
                        "5    92454\n",
                        "Name: review_rate, dtype: int64\n"
                    ]
                },
                {
                    "output_type": "execute_result",
                    "data": {
                        "text/html": [
                            "<div>\n",
                            "<style scoped>\n",
                            "    .dataframe tbody tr th:only-of-type {\n",
                            "        vertical-align: middle;\n",
                            "    }\n",
                            "\n",
                            "    .dataframe tbody tr th {\n",
                            "        vertical-align: top;\n",
                            "    }\n",
                            "\n",
                            "    .dataframe thead th {\n",
                            "        text-align: right;\n",
                            "    }\n",
                            "</style>\n",
                            "<table border=\"1\" class=\"dataframe\">\n",
                            "  <thead>\n",
                            "    <tr style=\"text-align: right;\">\n",
                            "      <th></th>\n",
                            "      <th>review_content</th>\n",
                            "      <th>review_rate</th>\n",
                            "    </tr>\n",
                            "  </thead>\n",
                            "  <tbody>\n",
                            "    <tr>\n",
                            "      <th>0</th>\n",
                            "      <td>Esta de muy baja calidad, no fue lo esperado.</td>\n",
                            "      <td>2</td>\n",
                            "    </tr>\n",
                            "    <tr>\n",
                            "      <th>1</th>\n",
                            "      <td>Reconozco que fue muy económico, pero su durab...</td>\n",
                            "      <td>2</td>\n",
                            "    </tr>\n",
                            "    <tr>\n",
                            "      <th>2</th>\n",
                            "      <td>Muy bien muy bien muy bien muy bien muy bien m...</td>\n",
                            "      <td>5</td>\n",
                            "    </tr>\n",
                            "    <tr>\n",
                            "      <th>3</th>\n",
                            "      <td>No me fue útil para mí. Diseño muy bueno.</td>\n",
                            "      <td>2</td>\n",
                            "    </tr>\n",
                            "    <tr>\n",
                            "      <th>4</th>\n",
                            "      <td>No fue lo estipulado. Solo eso voy aclarar.</td>\n",
                            "      <td>1</td>\n",
                            "    </tr>\n",
                            "  </tbody>\n",
                            "</table>\n",
                            "</div>"
                        ],
                        "text/plain": [
                            "                                      review_content  review_rate\n",
                            "0      Esta de muy baja calidad, no fue lo esperado.            2\n",
                            "1  Reconozco que fue muy económico, pero su durab...            2\n",
                            "2  Muy bien muy bien muy bien muy bien muy bien m...            5\n",
                            "3          No me fue útil para mí. Diseño muy bueno.            2\n",
                            "4        No fue lo estipulado. Solo eso voy aclarar.            1"
                        ]
                    },
                    "metadata": {},
                    "execution_count": 2
                }
            ],
            "metadata": {}
        },
        {
            "cell_type": "code",
            "execution_count": 5,
            "source": [
                "from hyperparams_search import normalize_dataset, SoftmaxClassifier, CatBOWVectorizer\n",
                "\n",
                "def hidden_size_inspection():\n",
                "\n",
                "    df = ut.load_data(DATA_PATH,'train',nclasses=5).loc[:,['review_content','review_rate']]\n",
                "    #df = df.sample(frac=0.01,random_state=27381)\n",
                "\n",
                "    df = normalize_dataset(df)\n",
                "    df_train, df_dev = ut.train_dev_split(df,dev_size=0.1,random_state=2376482)\n",
                "    y_train, y_dev = df_train['review_rate'].values-1, df_dev['review_rate'].values-1\n",
                "\n",
                "    vec = CatBOWVectorizer(token_pattern=r'(\\w+|[\\.,!\\(\\)\"\\-:\\?/%;¡\\$\\'¿\\\\]|\\d+)',\n",
                "                max_features=10000,labels_names=[0,1,2,3,4])\n",
                "    X_train = vec.fit_transform(df_train['review_content'],y_train)\n",
                "    X_dev = vec.transform(df_dev['review_content'])\n",
                "\n",
                "    for hidden_size in [32,64,128]:\n",
                "\n",
                "        clf = SoftmaxClassifier(hidden_size,n_iters=20,batch_size=256,\n",
                "                learning_rate=1e-4,weight_decay=0.0,n_classes=5,device='cuda:1')\n",
                "    \n",
                "        loss_history = clf.fit(X_train,y_train)\n",
                "\n",
                "        fig, ax = plt.subplots()\n",
                "        ax.plot(loss_history)\n",
                "\n",
                "        y_train_pred = clf.predict(X_train)\n",
                "        y_dev_pred = clf.predict(X_dev)\n",
                "        print('hidden size:',hidden_size)\n",
                "        print('Train accuracy: {:.2f}%'.format( (y_train == y_train_pred).mean()*100 ))\n",
                "        print('Dev accuracy: {:.2f}%'.format( (y_dev == y_dev_pred).mean()*100 ))\n",
                "        print()\n",
                "\n",
                "hidden_size_inspection()"
            ],
            "outputs": [
                {
                    "output_type": "stream",
                    "name": "stdout",
                    "text": [
                        "Dataset cargado para 5 clases (muy malo=1, malo=2, medio=3, bueno=4 muy bueno=5)\n",
                        "Num samples per category:\n",
                        "1    92477\n",
                        "2    92449\n",
                        "3    92487\n",
                        "4    92501\n",
                        "5    92454\n",
                        "Name: review_rate, dtype: int64\n",
                        "hidden size: 32\n",
                        "Train accuracy: 47.86%\n",
                        "Dev accuracy: 47.33%\n",
                        "\n",
                        "hidden size: 64\n",
                        "Train accuracy: 48.11%\n",
                        "Dev accuracy: 47.86%\n",
                        "\n",
                        "hidden size: 128\n",
                        "Train accuracy: 47.97%\n",
                        "Dev accuracy: 47.85%\n",
                        "\n"
                    ]
                },
                {
                    "output_type": "display_data",
                    "data": {
                        "image/png": "[encoded data removed]",
                        "text/plain": [
                            "<Figure size 432x288 with 1 Axes>"
                        ]
                    },
                    "metadata": {
                        "needs_background": "light"
                    }
                },
                {
                    "output_type": "display_data",
                    "data": {
                        "image/png": "[encoded data removed]",
                        "text/plain": [
                            "<Figure size 432x288 with 1 Axes>"
                        ]
                    },
                    "metadata": {
                        "needs_background": "light"
                    }
                },
                {
                    "output_type": "display_data",
                    "data": {
                        "image/png": "[encoded data removed]",
                        "text/plain": [
                            "<Figure size 432x288 with 1 Axes>"
                        ]
                    },
                    "metadata": {
                        "needs_background": "light"
                    }
                }
            ],
            "metadata": {}
        },
        {
            "cell_type": "markdown",
            "source": [
                "Elegimos el siguiente modelo:\n",
                "\n",
                "* 2-layer network con hidden size = 4 y CrossEntropyLoss\n",
                "* Learning rate 1e-3, optimización Adam, sin weight decay, 20 iteraciones y 256 de bs.\n",
                "* Tokenizer regex `(\\w+|[\\.,!\\(\\)\"\\-:\\?/%;¡\\$\\'¿\\\\]|\\d+)` con un máximo de 50000 palabras sin fc.\n",
                "* Vectorización por CBOW+tfidf+categoría."
            ],
            "metadata": {}
        },
        {
            "cell_type": "code",
            "execution_count": 2,
            "source": [
                "from sklearn.metrics import accuracy_score, f1_score, confusion_matrix\n",
                "from hyperparams_search import normalize_dataset, SoftmaxClassifier, CatBOWVectorizer\n",
                "import pickle\n",
                "\n",
                "def evaluate_in_test():\n",
                "    results = {}\n",
                "    for n_classes in [2,3,5]:\n",
                "        df_train = ut.load_data(DATA_PATH,'train',nclasses=n_classes).loc[:,['review_content','review_rate']]\n",
                "        df_test = ut.load_data(DATA_PATH,'test',nclasses=n_classes).loc[:,['review_content','review_rate']]\n",
                "        df_train = normalize_dataset(df_train)\n",
                "        df_test = normalize_dataset(df_test)\n",
                "        vec = CatBOWVectorizer(token_pattern=r'(\\w+|[\\.,!\\(\\)\"\\-:\\?/%;¡\\$\\'¿\\\\]|\\d+)',\n",
                "                max_features=50000,labels_names=[0,1,2,3,4])\n",
                "        clf = SoftmaxClassifier(hidden_size=4,n_iters=20,batch_size=256,\n",
                "                learning_rate=1e-3,weight_decay=0.0,n_classes=5,device='cuda:1')\n",
                "\n",
                "        results_frac = {}\n",
                "        for frac in [0.0001, 0.0005, 0.001, 0.005, 0.01, 0.05, 0.1, 0.5, 1.]:\n",
                "            print('nclasses: {}. frac: {:.5}.'.format(n_classes,frac))\n",
                "            # Train:\n",
                "            df_train_part = df_train.sample(frac=frac,random_state=632147)\n",
                "            y_train = df_train_part['review_rate'].values\n",
                "            if n_classes == 5:\n",
                "                y_train = y_train-1\n",
                "            X_train = vec.fit_transform(df_train_part['review_content'],y_train)\n",
                "            clf.fit(X_train,y_train)\n",
                "            # Predict:\n",
                "            X_test = vec.transform(df_test['review_content'])\n",
                "            y_pred = clf.predict(X_test)\n",
                "            y_test = df_test['review_rate'].values\n",
                "            if n_classes == 5:\n",
                "                y_test = y_test-1\n",
                "            results_frac[frac] = {\n",
                "                'acc': accuracy_score(y_test,y_pred),\n",
                "                #'f1_score': f1_score(y_test,y_pred),\n",
                "                'confusion_matrix': confusion_matrix(y_test,y_pred)\n",
                "            }\n",
                "        results[n_classes] = results_frac\n",
                "\n",
                "    with open('results_test.pkl','wb') as f:\n",
                "        pickle.dump(results,f)\n",
                "\n",
                "evaluate_in_test()"
            ],
            "outputs": [
                {
                    "output_type": "stream",
                    "name": "stdout",
                    "text": [
                        "Dataset cargado para 2 clases (malo=0, bueno=1)\n",
                        "Num samples per category:\n",
                        "0    184926\n",
                        "1    184955\n",
                        "Name: review_rate, dtype: int64\n",
                        "Dataset cargado para 2 clases (malo=0, bueno=1)\n",
                        "Num samples per category:\n",
                        "0    10000\n",
                        "1    10000\n",
                        "Name: review_rate, dtype: int64\n",
                        "nclasses: 2. frac: 0.0001.\n",
                        "nclasses: 2. frac: 0.0005.\n",
                        "nclasses: 2. frac: 0.001.\n",
                        "nclasses: 2. frac: 0.005.\n",
                        "nclasses: 2. frac: 0.01.\n",
                        "nclasses: 2. frac: 0.05.\n",
                        "nclasses: 2. frac: 0.1.\n",
                        "nclasses: 2. frac: 0.5.\n",
                        "nclasses: 2. frac: 1.0.\n",
                        "Dataset cargado para 3 clases (malo=0, medio=1, bueno=2)\n",
                        "Num samples per category:\n",
                        "0    184926\n",
                        "1     92487\n",
                        "2    184955\n",
                        "Name: review_rate, dtype: int64\n",
                        "Dataset cargado para 3 clases (malo=0, medio=1, bueno=2)\n",
                        "Num samples per category:\n",
                        "0    10000\n",
                        "1     5000\n",
                        "2    10000\n",
                        "Name: review_rate, dtype: int64\n",
                        "nclasses: 3. frac: 0.0001.\n",
                        "nclasses: 3. frac: 0.0005.\n",
                        "nclasses: 3. frac: 0.001.\n",
                        "nclasses: 3. frac: 0.005.\n",
                        "nclasses: 3. frac: 0.01.\n",
                        "nclasses: 3. frac: 0.05.\n",
                        "nclasses: 3. frac: 0.1.\n",
                        "nclasses: 3. frac: 0.5.\n",
                        "nclasses: 3. frac: 1.0.\n",
                        "Dataset cargado para 5 clases (muy malo=1, malo=2, medio=3, bueno=4 muy bueno=5)\n",
                        "Num samples per category:\n",
                        "1    92477\n",
                        "2    92449\n",
                        "3    92487\n",
                        "4    92501\n",
                        "5    92454\n",
                        "Name: review_rate, dtype: int64\n",
                        "Dataset cargado para 5 clases (muy malo=1, malo=2, medio=3, bueno=4 muy bueno=5)\n",
                        "Num samples per category:\n",
                        "1    5000\n",
                        "2    5000\n",
                        "3    5000\n",
                        "4    5000\n",
                        "5    5000\n",
                        "Name: review_rate, dtype: int64\n",
                        "nclasses: 5. frac: 0.0001.\n",
                        "nclasses: 5. frac: 0.0005.\n",
                        "nclasses: 5. frac: 0.001.\n",
                        "nclasses: 5. frac: 0.005.\n",
                        "nclasses: 5. frac: 0.01.\n",
                        "nclasses: 5. frac: 0.05.\n",
                        "nclasses: 5. frac: 0.1.\n",
                        "nclasses: 5. frac: 0.5.\n",
                        "nclasses: 5. frac: 1.0.\n"
                    ]
                }
            ],
            "metadata": {}
        },
        {
            "cell_type": "code",
            "execution_count": 3,
            "source": [
                "with open('results_test.pkl','rb') as f:\n",
                "    results = pickle.load(f)\n",
                "\n",
                "for n_classes in [2,3,5]:\n",
                "    df_test = ut.load_data(DATA_PATH,'test',nclasses=n_classes).loc[:,['review_content','review_rate']]\n",
                "    N_samples_tot = len(df_test)\n",
                "    N_samples = []\n",
                "    accuracies = []\n",
                "    for frac, scores in results[n_classes].items():\n",
                "        N_samples.append(int(frac * N_samples_tot))\n",
                "        accuracies.append(scores['acc'])\n",
                "\n",
                "    fig, ax = plt.subplots()\n",
                "    ax.plot(N_samples,accuracies)\n",
                "    #ax.set_xscale('log')"
            ],
            "outputs": [
                {
                    "output_type": "stream",
                    "name": "stdout",
                    "text": [
                        "Dataset cargado para 2 clases (malo=0, bueno=1)\n",
                        "Num samples per category:\n",
                        "0    10000\n",
                        "1    10000\n",
                        "Name: review_rate, dtype: int64\n",
                        "Dataset cargado para 3 clases (malo=0, medio=1, bueno=2)\n",
                        "Num samples per category:\n",
                        "0    10000\n",
                        "1     5000\n",
                        "2    10000\n",
                        "Name: review_rate, dtype: int64\n",
                        "Dataset cargado para 5 clases (muy malo=1, malo=2, medio=3, bueno=4 muy bueno=5)\n",
                        "Num samples per category:\n",
                        "1    5000\n",
                        "2    5000\n",
                        "3    5000\n",
                        "4    5000\n",
                        "5    5000\n",
                        "Name: review_rate, dtype: int64\n"
                    ]
                },
                {
                    "output_type": "display_data",
                    "data": {
                        "image/png": "[encoded data removed]",
                        "text/plain": [
                            "<Figure size 432x288 with 1 Axes>"
                        ]
                    },
                    "metadata": {
                        "needs_background": "light"
                    }
                },
                {
                    "output_type": "display_data",
                    "data": {
                        "image/png": "[encoded data removed]",
                        "text/plain": [
                            "<Figure size 432x288 with 1 Axes>"
                        ]
                    },
                    "metadata": {
                        "needs_background": "light"
                    }
                },
                {
                    "output_type": "display_data",
                    "data": {
                        "image/png": "[encoded data removed]",
                        "text/plain": [
                            "<Figure size 432x288 with 1 Axes>"
                        ]
                    },
                    "metadata": {
                        "needs_background": "light"
                    }
                }
            ],
            "metadata": {}
        },
        {
            "cell_type": "code",
            "execution_count": null,
            "source": [
                "results"
            ],
            "outputs": [],
            "metadata": {}
        }
    ],
    "metadata": {
        "orig_nbformat": 4,
        "language_info": {
            "name": "python",
            "version": "3.9.4",
            "mimetype": "text/x-python",
            "codemirror_mode": {
                "name": "ipython",
                "version": 3
            },
            "pygments_lexer": "ipython3",
            "nbconvert_exporter": "python",
            "file_extension": ".py"
        },
        "kernelspec": {
            "name": "python3",
            "display_name": "Python 3.9.4 64-bit ('nlpenv': conda)"
        },
        "interpreter": {
            "hash": "45e2395d0a8a696f3ad2f502e93e054f952d94581d5ade0e8ea13f982ea56de0"
        }
    },
    "nbformat": 4,
    "nbformat_minor": 2
}