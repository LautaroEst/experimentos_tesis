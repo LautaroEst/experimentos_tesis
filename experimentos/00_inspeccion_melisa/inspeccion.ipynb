{
 "cells": [
  {
   "cell_type": "code",
   "execution_count": 1,
   "metadata": {},
   "outputs": [],
   "source": [
    "import pandas as pd\n",
    "import numpy as np\n",
    "from utils import load_data, train_dev_split\n",
    "import os\n",
    "from collections import defaultdict\n",
    "import matplotlib.pyplot as plt\n",
    "\n",
    "\n",
    "RANDOM_SEED = 61273812\n",
    "\n",
    "DATA_PATH = '/'.join(os.getcwd().split('/')[:-2]) + '/datav2/'\n",
    "DATA_ES_PATH = DATA_PATH + 'esp/'\n",
    "DATA_POR_PATH = DATA_PATH + 'por/'\n",
    "\n",
    "MODEL_PATH = '/'.join(os.getcwd().split('/')[:-2]) + '/pretrained_models/'"
   ]
  },
  {
   "cell_type": "code",
   "execution_count": 2,
   "metadata": {},
   "outputs": [
    {
     "data": {
      "text/html": [
       "<div>\n",
       "<style scoped>\n",
       "    .dataframe tbody tr th:only-of-type {\n",
       "        vertical-align: middle;\n",
       "    }\n",
       "\n",
       "    .dataframe tbody tr th {\n",
       "        vertical-align: top;\n",
       "    }\n",
       "\n",
       "    .dataframe thead th {\n",
       "        text-align: right;\n",
       "    }\n",
       "</style>\n",
       "<table border=\"1\" class=\"dataframe\">\n",
       "  <thead>\n",
       "    <tr style=\"text-align: right;\">\n",
       "      <th></th>\n",
       "      <th>review_content</th>\n",
       "      <th>review_rate</th>\n",
       "    </tr>\n",
       "  </thead>\n",
       "  <tbody>\n",
       "    <tr>\n",
       "      <th>0</th>\n",
       "      <td>Esta de muy baja calidad, no fue lo esperado.</td>\n",
       "      <td>1</td>\n",
       "    </tr>\n",
       "    <tr>\n",
       "      <th>1</th>\n",
       "      <td>Reconozco que fue muy económico, pero su durab...</td>\n",
       "      <td>1</td>\n",
       "    </tr>\n",
       "    <tr>\n",
       "      <th>2</th>\n",
       "      <td>Muy bien muy bien muy bien muy bien muy bien m...</td>\n",
       "      <td>4</td>\n",
       "    </tr>\n",
       "    <tr>\n",
       "      <th>3</th>\n",
       "      <td>No me fue útil para mí. Diseño muy bueno.</td>\n",
       "      <td>1</td>\n",
       "    </tr>\n",
       "    <tr>\n",
       "      <th>4</th>\n",
       "      <td>No fue lo estipulado. Solo eso voy aclarar.</td>\n",
       "      <td>0</td>\n",
       "    </tr>\n",
       "    <tr>\n",
       "      <th>...</th>\n",
       "      <td>...</td>\n",
       "      <td>...</td>\n",
       "    </tr>\n",
       "    <tr>\n",
       "      <th>462363</th>\n",
       "      <td>Bien, bien, bien, bien, bien, bien, bien, bien...</td>\n",
       "      <td>2</td>\n",
       "    </tr>\n",
       "    <tr>\n",
       "      <th>462364</th>\n",
       "      <td>Acorde al precio.</td>\n",
       "      <td>1</td>\n",
       "    </tr>\n",
       "    <tr>\n",
       "      <th>462365</th>\n",
       "      <td>No funciono.</td>\n",
       "      <td>1</td>\n",
       "    </tr>\n",
       "    <tr>\n",
       "      <th>462366</th>\n",
       "      <td>Buen producto. Y muy completo a un precio muy ...</td>\n",
       "      <td>3</td>\n",
       "    </tr>\n",
       "    <tr>\n",
       "      <th>462367</th>\n",
       "      <td>No me convenciò.</td>\n",
       "      <td>1</td>\n",
       "    </tr>\n",
       "  </tbody>\n",
       "</table>\n",
       "<p>462368 rows × 2 columns</p>\n",
       "</div>"
      ],
      "text/plain": [
       "                                           review_content  review_rate\n",
       "0           Esta de muy baja calidad, no fue lo esperado.            1\n",
       "1       Reconozco que fue muy económico, pero su durab...            1\n",
       "2       Muy bien muy bien muy bien muy bien muy bien m...            4\n",
       "3               No me fue útil para mí. Diseño muy bueno.            1\n",
       "4             No fue lo estipulado. Solo eso voy aclarar.            0\n",
       "...                                                   ...          ...\n",
       "462363  Bien, bien, bien, bien, bien, bien, bien, bien...            2\n",
       "462364                                  Acorde al precio.            1\n",
       "462365                                       No funciono.            1\n",
       "462366  Buen producto. Y muy completo a un precio muy ...            3\n",
       "462367                                   No me convenciò.            1\n",
       "\n",
       "[462368 rows x 2 columns]"
      ]
     },
     "execution_count": 2,
     "metadata": {},
     "output_type": "execute_result"
    }
   ],
   "source": [
    "nclasses = 5\n",
    "df = load_data(DATA_ES_PATH,'train',nclasses)\n",
    "\n",
    "df"
   ]
  },
  {
   "cell_type": "code",
   "execution_count": 3,
   "metadata": {},
   "outputs": [
    {
     "data": {
      "text/plain": [
       "<AxesSubplot:>"
      ]
     },
     "execution_count": 3,
     "metadata": {},
     "output_type": "execute_result"
    },
    {
     "data": {
      "image/png": "[encoded data removed]",
      "text/plain": [
       "<Figure size 432x288 with 1 Axes>"
      ]
     },
     "metadata": {
      "needs_background": "light"
     },
     "output_type": "display_data"
    }
   ],
   "source": [
    "df['review_content'].str.len().hist(bins=1600)"
   ]
  },
  {
   "cell_type": "code",
   "execution_count": 4,
   "metadata": {},
   "outputs": [
    {
     "data": {
      "text/plain": [
       "0     362\n",
       "1     444\n",
       "2    1040\n",
       "3    1629\n",
       "4    2864\n",
       "Name: review_rate, dtype: int64"
      ]
     },
     "execution_count": 4,
     "metadata": {},
     "output_type": "execute_result"
    }
   ],
   "source": [
    "df.loc[(df['review_content'].str.len() > 600),'review_rate'].value_counts().sort_index()"
   ]
  },
  {
   "cell_type": "code",
   "execution_count": 5,
   "metadata": {},
   "outputs": [
    {
     "data": {
      "text/plain": [
       "0    92109\n",
       "1    92002\n",
       "2    91441\n",
       "3    90856\n",
       "4    89574\n",
       "Name: review_rate, dtype: int64"
      ]
     },
     "execution_count": 5,
     "metadata": {},
     "output_type": "execute_result"
    }
   ],
   "source": [
    "df.loc[(df['review_content'].str.len() < 600),'review_rate'].value_counts().sort_index()"
   ]
  },
  {
   "cell_type": "code",
   "execution_count": 6,
   "metadata": {},
   "outputs": [
    {
     "name": "stderr",
     "output_type": "stream",
     "text": [
      "/home/lestien/anaconda3/envs/nlpenv/lib/python3.9/site-packages/matplotlib/backends/backend_agg.py:238: RuntimeWarning: Glyph 8 missing from current font.\n",
      "  font.set_text(s, 0.0, flags=flags)\n",
      "/home/lestien/anaconda3/envs/nlpenv/lib/python3.9/site-packages/matplotlib/backends/backend_agg.py:201: RuntimeWarning: Glyph 8 missing from current font.\n",
      "  font.set_text(s, 0, flags=flags)\n"
     ]
    },
    {
     "data": {
      "image/png": "[encoded data removed]",
      "text/plain": [
       "<Figure size 1440x360 with 1 Axes>"
      ]
     },
     "metadata": {
      "needs_background": "light"
     },
     "output_type": "display_data"
    }
   ],
   "source": [
    "charcounts = defaultdict(lambda: 0)\n",
    "for sent in df['review_content']:\n",
    "    for char in sent:\n",
    "        charcounts[char] += 1\n",
    "\n",
    "charcounts = pd.Series(dict(charcounts),index=list(charcounts.keys())).sort_values(ascending=False)\n",
    "\n",
    "fig, ax = plt.subplots(1,1,figsize=(20,5))\n",
    "ticks = np.arange(len(charcounts))\n",
    "ax.bar(ticks, charcounts)\n",
    "ax.set_xticks(ticks)\n",
    "ax.set_xticklabels(charcounts.index,fontsize='medium')\n",
    "# ax.set_yscale('log')\n",
    "fig.tight_layout()\n",
    "plt.savefig('charcounts.png')"
   ]
  },
  {
   "cell_type": "code",
   "execution_count": 21,
   "metadata": {},
   "outputs": [],
   "source": [
    "def pretokenize_dataset(ds):\n",
    "    \n",
    "    # Pasamos a minúscula todo\n",
    "    ds = ds.str.lower()\n",
    "    \n",
    "    # Sacamos todos los acentos\n",
    "    accents = [\n",
    "        ('[óòÓöøôõ]','o'), ('[áàÁäåâãÄ]','a'), ('[íìÍïîÏ]','i'), \n",
    "        ('[éèÉëêÈ]','e'), ('[úüÚùûÜ]','u'), ('[ç¢Ç]','c'), \n",
    "        ('[ý¥]','y'),('š','s'),('ß','b'),('\\x08','')\n",
    "    ]\n",
    "    \n",
    "    for rep, rep_with in accents:\n",
    "        ds  = ds.str.replace(rep,rep_with,regex=True)\n",
    "        \n",
    "    pattern = r\"(\\w+|[\\.,!\\(\\)\\\"\\-:\\?/%;¡\\$'¿\\\\]|\\d+)\"\n",
    "    ds = ds.str.findall(pattern)\n",
    "    return ds\n",
    "\n",
    "\n",
    "ds = pretokenize_dataset(df['review_content'])\n",
    "wordcounts = defaultdict(lambda: 0)\n",
    "for sent in ds:\n",
    "    for word in sent:\n",
    "        wordcounts[word] += 1\n",
    "\n",
    "wordcounts = pd.Series(dict(wordcounts),index=list(wordcounts.keys())).sort_values(ascending=False)"
   ]
  },
  {
   "cell_type": "code",
   "execution_count": 22,
   "metadata": {},
   "outputs": [
    {
     "data": {
      "text/plain": [
       ".                                                                                                                                                                                                                                                                                                                                                   1068769\n",
       ",                                                                                                                                                                                                                                                                                                                                                    815459\n",
       "de                                                                                                                                                                                                                                                                                                                                                   578156\n",
       "que                                                                                                                                                                                                                                                                                                                                                  545717\n",
       "la                                                                                                                                                                                                                                                                                                                                                   516333\n",
       "                                                                                                                                                                                                                                                                                                                                                     ...   \n",
       "buscaminas                                                                                                                                                                                                                                                                                                                                                1\n",
       "apieriencia                                                                                                                                                                                                                                                                                                                                               1\n",
       "uranio                                                                                                                                                                                                                                                                                                                                                    1\n",
       "temael                                                                                                                                                                                                                                                                                                                                                    1\n",
       "llllllllllllllllllllllllllllllllllllllllllllllllllllllllllllllllllllllllllllllllllllllllllllllllllllllllllllllllllllllllllllllllllllllllllllllllllllllllllllllllllllllllllllllllllllllllllllllllllljjjjjjjjjjjjjjjjjjjjjjjjjjjjjjjjjjjjjjjjjjjjjjjjjjjjjjjjjjjjjjjjjjjjjjjjjjjjjjjjjjjjjjjjjjjjjjjjjjjjjjjjjjjjjjjjjjjjjjjjjjjjjjjjjjjjjjjjjjjjj          1\n",
       "Length: 141731, dtype: int64"
      ]
     },
     "execution_count": 22,
     "metadata": {},
     "output_type": "execute_result"
    }
   ],
   "source": [
    "wordcounts"
   ]
  },
  {
   "cell_type": "code",
   "execution_count": 23,
   "metadata": {},
   "outputs": [
    {
     "data": {
      "text/plain": [
       ".               1068769\n",
       ",                815459\n",
       "de               578156\n",
       "que              545717\n",
       "la               516333\n",
       "                 ...   \n",
       "turoriales            2\n",
       "helicobacter          2\n",
       "205º                  2\n",
       "esperabs              2\n",
       "magro                 2\n",
       "Length: 68849, dtype: int64"
      ]
     },
     "execution_count": 23,
     "metadata": {},
     "output_type": "execute_result"
    }
   ],
   "source": [
    "wordcounts[wordcounts > 1]"
   ]
  },
  {
   "cell_type": "code",
   "execution_count": 28,
   "metadata": {},
   "outputs": [],
   "source": [
    "ds = df.loc[df['review_content'].str.len() < 100, 'review_content']\n",
    "\n",
    "ds = pretokenize_dataset(ds)\n",
    "wordcounts = defaultdict(lambda: 0)\n",
    "for sent in ds:\n",
    "    for word in sent:\n",
    "        wordcounts[word] += 1\n",
    "\n",
    "wordcounts = pd.Series(dict(wordcounts),index=list(wordcounts.keys())).sort_values(ascending=False)"
   ]
  },
  {
   "cell_type": "code",
   "execution_count": 29,
   "metadata": {},
   "outputs": [
    {
     "data": {
      "text/plain": [
       ".              145491\n",
       "no              75867\n",
       ",               54561\n",
       "la              41431\n",
       "de              38312\n",
       "                ...  \n",
       "sensa               1\n",
       "ahorrara            1\n",
       "amigurumis          1\n",
       "minproducto         1\n",
       "1000mbps            1\n",
       "Length: 35002, dtype: int64"
      ]
     },
     "execution_count": 29,
     "metadata": {},
     "output_type": "execute_result"
    }
   ],
   "source": [
    "wordcounts"
   ]
  },
  {
   "cell_type": "code",
   "execution_count": 30,
   "metadata": {},
   "outputs": [
    {
     "data": {
      "text/plain": [
       ".            145491\n",
       "no            75867\n",
       ",             54561\n",
       "la            41431\n",
       "de            38312\n",
       "              ...  \n",
       "adaptarle         2\n",
       "errado            2\n",
       "podologia         2\n",
       "invalido          2\n",
       "adelgazo          2\n",
       "Length: 16462, dtype: int64"
      ]
     },
     "execution_count": 30,
     "metadata": {},
     "output_type": "execute_result"
    }
   ],
   "source": [
    "wordcounts[wordcounts > 1]"
   ]
  },
  {
   "cell_type": "code",
   "execution_count": 3,
   "metadata": {},
   "outputs": [],
   "source": [
    "from transformers import BertConfig, BertTokenizer\n",
    "import json\n",
    "\n",
    "def bert_tokenize_dataset(ds,cased=True):\n",
    "    \n",
    "    if not cased:\n",
    "        # Pasamos a minúscula todo\n",
    "        ds = ds.str.lower()\n",
    "    # Sacamos todos los acentos\n",
    "    accents = [\n",
    "        ('[óòÓöøôõ]','ó'), ('[áàÁäåâãÄ]','á'), ('[íìÍïîÏ]','í'), \n",
    "        ('[éèÉëêÈ]','é'), ('[úÚùû]','ú'), ('[ç¢Ç]','c'), ('[ý¥]','y'),\n",
    "        ('š','s'), ('ß','b'), ('\\x08','')\n",
    "    ]\n",
    "    for rep, rep_with in accents:\n",
    "        ds  = ds.str.replace(rep,rep_with,regex=True)\n",
    "    \n",
    "    if cased:\n",
    "        model_path = MODEL_PATH + 'beto_cased/'\n",
    "        do_lower_case = False\n",
    "    else:\n",
    "        model_path = MODEL_PATH + 'beto_uncased/'\n",
    "        do_lower_case = True\n",
    "\n",
    "    tokenizer = BertTokenizer.from_pretrained(model_path,do_lower_case=do_lower_case)\n",
    "    ds_tokenized = ds.apply(tokenizer.tokenize)\n",
    "    return ds_tokenized\n",
    "\n",
    "\n",
    "ds = bert_tokenize_dataset(df['review_content'],cased=False)\n",
    "wordcounts = defaultdict(lambda: 0)\n",
    "for sent in ds:\n",
    "    for word in sent:\n",
    "        wordcounts[word] += 1\n",
    "\n",
    "wordcounts = pd.Series(dict(wordcounts),index=list(wordcounts.keys())).sort_values(ascending=False)"
   ]
  },
  {
   "cell_type": "code",
   "execution_count": 4,
   "metadata": {},
   "outputs": [
    {
     "data": {
      "text/plain": [
       ".               1068769\n",
       ",                815459\n",
       "de               578455\n",
       "que              546047\n",
       "la               516865\n",
       "                 ...   \n",
       "liderar               1\n",
       "##ulia                1\n",
       "nacionalista          1\n",
       "##rimon               1\n",
       "milton                1\n",
       "Length: 22025, dtype: int64"
      ]
     },
     "execution_count": 4,
     "metadata": {},
     "output_type": "execute_result"
    }
   ],
   "source": [
    "wordcounts"
   ]
  },
  {
   "cell_type": "code",
   "execution_count": 5,
   "metadata": {},
   "outputs": [
    {
     "data": {
      "text/plain": [
       ".               1068769\n",
       ",                815459\n",
       "de               578455\n",
       "que              546047\n",
       "la               516865\n",
       "                 ...   \n",
       "fao                   2\n",
       "##osten               2\n",
       "1931                  2\n",
       "indiferencia          2\n",
       "beck                  2\n",
       "Length: 20454, dtype: int64"
      ]
     },
     "execution_count": 5,
     "metadata": {},
     "output_type": "execute_result"
    }
   ],
   "source": [
    "wordcounts[wordcounts > 1]"
   ]
  },
  {
   "cell_type": "code",
   "execution_count": 6,
   "metadata": {},
   "outputs": [
    {
     "data": {
      "text/plain": [
       "0      433394\n",
       "1       23715\n",
       "2        3695\n",
       "3         830\n",
       "4         378\n",
       "5         138\n",
       "6          84\n",
       "7          36\n",
       "8          28\n",
       "9          17\n",
       "11          9\n",
       "10          7\n",
       "13          5\n",
       "16          5\n",
       "12          5\n",
       "14          4\n",
       "27          4\n",
       "18          2\n",
       "17          1\n",
       "20          1\n",
       "21          1\n",
       "29          1\n",
       "30          1\n",
       "32          1\n",
       "60          1\n",
       "578         1\n",
       "333         1\n",
       "87          1\n",
       "102         1\n",
       "104         1\n",
       "Name: review_content, dtype: int64"
      ]
     },
     "execution_count": 6,
     "metadata": {},
     "output_type": "execute_result"
    }
   ],
   "source": [
    "from collections import Counter\n",
    "ds.apply(Counter).apply(lambda d: d.get('[UNK]',0)).value_counts()"
   ]
  }
 ],
 "metadata": {
  "interpreter": {
   "hash": "77098dc00a3460903b81c8596a0bc7086f3e368948e48cf9a4c7838d86af8004"
  },
  "kernelspec": {
   "display_name": "Python 3",
   "language": "python",
   "name": "python3"
  },
  "language_info": {
   "codemirror_mode": {
    "name": "ipython",
    "version": 3
   },
   "file_extension": ".py",
   "mimetype": "text/x-python",
   "name": "python",
   "nbconvert_exporter": "python",
   "pygments_lexer": "ipython3",
   "version": "3.9.4"
  }
 },
 "nbformat": 4,
 "nbformat_minor": 2
}
