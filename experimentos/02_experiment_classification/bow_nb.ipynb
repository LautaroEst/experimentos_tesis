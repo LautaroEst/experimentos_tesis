{
 "cells": [
  {
   "cell_type": "code",
   "execution_count": 1,
   "id": "ea51ac6a",
   "metadata": {},
   "outputs": [],
   "source": [
    "import numpy as np\n",
    "\n",
    "%matplotlib notebook\n",
    "import matplotlib.pyplot as plt\n",
    "\n",
    "import sys\n",
    "sys.path.append('..')\n",
    "from utils import *\n",
    "\n",
    "DATA_PATH = '../../data/esp/'\n",
    "\n",
    "%load_ext autoreload\n",
    "%autoreload 2"
   ]
  },
  {
   "cell_type": "code",
   "execution_count": 9,
   "id": "c4c7c2ea",
   "metadata": {},
   "outputs": [
    {
     "name": "stdout",
     "output_type": "stream",
     "text": [
      "Dataset cargado para 2 clases (malo=0, bueno=1)\n",
      "Num samples per category:\n",
      "0    184750\n",
      "1    184750\n",
      "Name: review_rate, dtype: int64\n"
     ]
    },
    {
     "data": {
      "text/html": [
       "<div>\n",
       "<style scoped>\n",
       "    .dataframe tbody tr th:only-of-type {\n",
       "        vertical-align: middle;\n",
       "    }\n",
       "\n",
       "    .dataframe tbody tr th {\n",
       "        vertical-align: top;\n",
       "    }\n",
       "\n",
       "    .dataframe thead th {\n",
       "        text-align: right;\n",
       "    }\n",
       "</style>\n",
       "<table border=\"1\" class=\"dataframe\">\n",
       "  <thead>\n",
       "    <tr style=\"text-align: right;\">\n",
       "      <th></th>\n",
       "      <th>review_content</th>\n",
       "      <th>review_rate</th>\n",
       "    </tr>\n",
       "  </thead>\n",
       "  <tbody>\n",
       "    <tr>\n",
       "      <th>0</th>\n",
       "      <td>Medio berreta, no justifica el gasto, ya se sa...</td>\n",
       "      <td>0</td>\n",
       "    </tr>\n",
       "    <tr>\n",
       "      <th>1</th>\n",
       "      <td>Excelente !! superó mi expectativas. Lo único ...</td>\n",
       "      <td>1</td>\n",
       "    </tr>\n",
       "    <tr>\n",
       "      <th>2</th>\n",
       "      <td>Es una buena relación calidad/precio. La cámar...</td>\n",
       "      <td>1</td>\n",
       "    </tr>\n",
       "    <tr>\n",
       "      <th>3</th>\n",
       "      <td>Muy poca voluntad para ayudarme con cambiarlo,...</td>\n",
       "      <td>0</td>\n",
       "    </tr>\n",
       "    <tr>\n",
       "      <th>4</th>\n",
       "      <td>Nunca me respondieron por el manual de uso. En...</td>\n",
       "      <td>0</td>\n",
       "    </tr>\n",
       "  </tbody>\n",
       "</table>\n",
       "</div>"
      ],
      "text/plain": [
       "                                      review_content  review_rate\n",
       "0  Medio berreta, no justifica el gasto, ya se sa...            0\n",
       "1  Excelente !! superó mi expectativas. Lo único ...            1\n",
       "2  Es una buena relación calidad/precio. La cámar...            1\n",
       "3  Muy poca voluntad para ayudarme con cambiarlo,...            0\n",
       "4  Nunca me respondieron por el manual de uso. En...            0"
      ]
     },
     "execution_count": 9,
     "metadata": {},
     "output_type": "execute_result"
    }
   ],
   "source": [
    "df = load_data(DATA_PATH,'train',nclasses=2).loc[:,['review_content','review_rate']]\n",
    "df.head(5)"
   ]
  },
  {
   "cell_type": "code",
   "execution_count": 16,
   "id": "d373af68",
   "metadata": {},
   "outputs": [],
   "source": [
    "from sklearn.feature_extraction.text import CountVectorizer\n",
    "\n",
    "def vectorize_bow(ds,token_pattern,ngram_range,max_df,min_df,max_features,vocab):\n",
    "    vec = CountVectorizer(input='content',encoding='utf-8',decode_error='strict',strip_accents=None,\n",
    "              lowercase=True,preprocessor=None,tokenizer=None,stop_words=None,token_pattern=token_pattern,\n",
    "              ngram_range=(1,1),analyzer='word',max_df=max_df,min_df=min_df,max_features=max_features,\n",
    "              vocabulary=vocab,binary=False,dtype=float)\n",
    "    X = vec.fit_transform(ds)\n",
    "    return X, vec.vocabulary_\n",
    "        \n",
    "\n",
    "X, vocab = vectorize_bow(df['review_content'],token_pattern=r'(\\w+|[\\.,;:\"\\'!¡\\?¿])',\n",
    "                ngram_range=(1,1),max_df=1.0,min_df=1,max_features=10000,vocab=None)\n",
    "\n",
    "X_tfidf = vsm.tfidf(X)\n",
    "X_ppmi = vsm.ppmi(X)\n",
    "y = df['review_rate'].values.astype(float)"
   ]
  },
  {
   "cell_type": "code",
   "execution_count": 17,
   "id": "d31ac5f9",
   "metadata": {},
   "outputs": [
    {
     "name": "stdout",
     "output_type": "stream",
     "text": [
      "              precision    recall  f1-score   support\n",
      "\n",
      "         0.0       0.91      0.85      0.88    184750\n",
      "         1.0       0.86      0.92      0.89    184750\n",
      "\n",
      "    accuracy                           0.88    369500\n",
      "   macro avg       0.89      0.88      0.88    369500\n",
      "weighted avg       0.89      0.88      0.88    369500\n",
      "\n"
     ]
    }
   ],
   "source": [
    "from sklearn.naive_bayes import MultinomialNB\n",
    "from sklearn.metrics import classification_report\n",
    "\n",
    "clf = MultinomialNB()\n",
    "clf.fit(X,y)\n",
    "y_pred = clf.predict(X)\n",
    "print(classification_report(y,y_pred))"
   ]
  },
  {
   "cell_type": "code",
   "execution_count": 18,
   "id": "54365fcc",
   "metadata": {},
   "outputs": [
    {
     "name": "stdout",
     "output_type": "stream",
     "text": [
      "              precision    recall  f1-score   support\n",
      "\n",
      "         0.0       0.90      0.81      0.85    184750\n",
      "         1.0       0.83      0.91      0.87    184750\n",
      "\n",
      "    accuracy                           0.86    369500\n",
      "   macro avg       0.87      0.86      0.86    369500\n",
      "weighted avg       0.87      0.86      0.86    369500\n",
      "\n"
     ]
    }
   ],
   "source": [
    "clf.fit(X_tfidf,y)\n",
    "y_pred = clf.predict(X_tfidf)\n",
    "print(classification_report(y,y_pred))"
   ]
  },
  {
   "cell_type": "code",
   "execution_count": 19,
   "id": "3346d1c6",
   "metadata": {},
   "outputs": [
    {
     "name": "stdout",
     "output_type": "stream",
     "text": [
      "              precision    recall  f1-score   support\n",
      "\n",
      "         0.0       0.90      0.85      0.87    184750\n",
      "         1.0       0.86      0.90      0.88    184750\n",
      "\n",
      "    accuracy                           0.88    369500\n",
      "   macro avg       0.88      0.88      0.88    369500\n",
      "weighted avg       0.88      0.88      0.88    369500\n",
      "\n"
     ]
    }
   ],
   "source": [
    "clf.fit(X_ppmi,y)\n",
    "y_pred = clf.predict(X_ppmi)\n",
    "print(classification_report(y,y_pred))"
   ]
  }
 ],
 "metadata": {
  "kernelspec": {
   "display_name": "Python 3",
   "language": "python",
   "name": "python3"
  },
  "language_info": {
   "codemirror_mode": {
    "name": "ipython",
    "version": 3
   },
   "file_extension": ".py",
   "mimetype": "text/x-python",
   "name": "python",
   "nbconvert_exporter": "python",
   "pygments_lexer": "ipython3",
   "version": "3.9.4"
  }
 },
 "nbformat": 4,
 "nbformat_minor": 5
}
